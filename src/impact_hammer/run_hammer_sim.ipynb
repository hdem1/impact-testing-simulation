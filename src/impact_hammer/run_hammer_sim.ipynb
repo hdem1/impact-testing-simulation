{
 "cells": [
  {
   "cell_type": "code",
   "execution_count": null,
   "metadata": {},
   "outputs": [],
   "source": [
    "%load_ext autoreload\n",
    "%autoreload 2"
   ]
  },
  {
   "cell_type": "code",
   "execution_count": null,
   "metadata": {},
   "outputs": [],
   "source": [
    "# Imports:\n",
    "from hammer_sim import G_ACCEL, SimpleHammerSimulation, MotorizedHammerSimulation, TorsionalSpringSimulation\n",
    "import os\n",
    "import numpy as np"
   ]
  },
  {
   "cell_type": "code",
   "execution_count": null,
   "metadata": {},
   "outputs": [],
   "source": [
    "json_filename = \"hammer_parameters.json\""
   ]
  },
  {
   "cell_type": "code",
   "execution_count": null,
   "metadata": {},
   "outputs": [],
   "source": [
    "simple_sim = SimpleHammerSimulation(json_filename)\n",
    "simple_sim.run_sim()"
   ]
  },
  {
   "cell_type": "code",
   "execution_count": null,
   "metadata": {},
   "outputs": [],
   "source": [
    "def torque_func(speed_rad):\n",
    "    speed_rpm = (speed_rad / 2 / np.pi) * 60\n",
    "    torque_oz = 4000 - 20 * speed_rpm  # https://www.mcmaster.com/4801N18/\n",
    "    #torque_oz = (360 - speed_rpm / 3) # https://www.mcmaster.com/2709K17/\n",
    "    return torque_oz / 141.6119322780592   # https://www.convertunits.com/from/oz-in/to/N-m \n",
    "motorized_sim = MotorizedHammerSimulation(json_filename, torque_func)\n",
    "motorized_sim.run_sim()"
   ]
  },
  {
   "cell_type": "code",
   "execution_count": null,
   "metadata": {},
   "outputs": [],
   "source": [
    "max_torque_in = 40 # https://www.mcmaster.com/9287K136/\n",
    "deg_range = 180\n",
    "spring_sim = TorsionalSpringSimulation(json_filename, max_torque_in / 8.8507457916, np.deg2rad(deg_range))\n",
    "spring_sim.run_sim()"
   ]
  },
  {
   "cell_type": "code",
   "execution_count": null,
   "metadata": {},
   "outputs": [],
   "source": [
    "print(simple_sim.get_max_speed())\n",
    "simple_sim.plot_speed_and_angle(\"Un-Assisted Hammer\")"
   ]
  },
  {
   "cell_type": "code",
   "execution_count": null,
   "metadata": {},
   "outputs": [],
   "source": [
    "print(motorized_sim.get_max_speed())\n",
    "motorized_sim.plot_speed_and_angle(\"Motorized Hammer\")"
   ]
  },
  {
   "cell_type": "code",
   "execution_count": null,
   "metadata": {},
   "outputs": [],
   "source": [
    "print(spring_sim.get_max_speed())\n",
    "spring_sim.plot_speed_and_angle(\"Torsional-spring Hammer\")"
   ]
  },
  {
   "cell_type": "code",
   "execution_count": null,
   "metadata": {},
   "outputs": [],
   "source": []
  }
 ],
 "metadata": {
  "kernelspec": {
   "display_name": ".venv",
   "language": "python",
   "name": "python3"
  },
  "language_info": {
   "codemirror_mode": {
    "name": "ipython",
    "version": 3
   },
   "file_extension": ".py",
   "mimetype": "text/x-python",
   "name": "python",
   "nbconvert_exporter": "python",
   "pygments_lexer": "ipython3",
   "version": "3.12.1"
  }
 },
 "nbformat": 4,
 "nbformat_minor": 2
}
