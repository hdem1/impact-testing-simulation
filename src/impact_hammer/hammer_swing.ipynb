{
 "cells": [
  {
   "cell_type": "code",
   "execution_count": null,
   "metadata": {},
   "outputs": [],
   "source": [
    "#Sources:\n",
    "# - https://www.youtube.com/watch?v=WNJJuSWfuTY \n",
    "\n",
    "# Imports:\n",
    "import numpy as np\n",
    "from scipy.integrate import solve_ivp\n",
    "import matplotlib.pyplot as plt\n",
    "import matplotlib.gridspec as gridspec\n",
    "import matplotlib.animation as animation"
   ]
  },
  {
   "cell_type": "code",
   "execution_count": null,
   "metadata": {},
   "outputs": [],
   "source": [
    "# Constants:\n",
    "g = 9.81            # m/s^2\n",
    "L_hammer = 1        # m\n",
    "dt = 0.001          # s\n",
    "duration = 2        # s"
   ]
  },
  {
   "cell_type": "code",
   "execution_count": null,
   "metadata": {},
   "outputs": [],
   "source": [
    "# Initial conditions:\n",
    "theta_0 = np.deg2rad(175)\n",
    "theta_dot_0 = 0"
   ]
  },
  {
   "cell_type": "code",
   "execution_count": null,
   "metadata": {},
   "outputs": [],
   "source": [
    "# Define ordinary differential equation\n",
    "def hammer_ODE(t, y):\n",
    "    return (y[1], -g * np.sin(y[0]) / L_hammer)"
   ]
  },
  {
   "cell_type": "code",
   "execution_count": null,
   "metadata": {},
   "outputs": [],
   "source": [
    "# Solve the ODE\n",
    "sol = solve_ivp(hammer_ODE, [0, duration], (theta_0, theta_dot_0), t_eval=np.linspace(0,duration, round(duration/dt)))"
   ]
  },
  {
   "cell_type": "code",
   "execution_count": null,
   "metadata": {},
   "outputs": [],
   "source": [
    "# Extract outputs\n",
    "t = sol.t\n",
    "theta_deg = np.rad2deg(sol.y[0])\n",
    "theta_dot_deg = np.rad2deg(sol.y[1])"
   ]
  },
  {
   "cell_type": "code",
   "execution_count": null,
   "metadata": {},
   "outputs": [],
   "source": [
    "# Print maximum speed:\n",
    "speeds = abs(np.deg2rad(theta_dot_deg)) * L_hammer     # m/s\n",
    "max_speed = max(speeds)     # m/s\n",
    "print(max_speed)"
   ]
  },
  {
   "cell_type": "code",
   "execution_count": null,
   "metadata": {},
   "outputs": [],
   "source": [
    "# Plot time vs theta and thetadot \n",
    "fig, ax1 = plt.subplots()\n",
    "\n",
    "ax1.set_ylabel(r'$\\theta$ [deg]', color = 'red')\n",
    "ax1.tick_params(axis='y', color='red',labelcolor='red')\n",
    "ax1.set_xlabel(\"Time [s]\")\n",
    "ax1.plot(t, theta_deg, 'r', lw=2, label=r'$\\theta$')\n",
    "\n",
    "ax1 = ax1.twinx()\n",
    "ax1.set_ylabel(r'Speed [m/s]', color='blue')\n",
    "ax1.tick_params(axis='y', color='blue', labelcolor='blue')\n",
    "ax1.plot(t, speeds, 'b', lw=2, label=r'$\\dot \\theta$')\n",
    "#ax1.set_ybound(-max_speed*1.1, max_speed*1.1)\n",
    "\n",
    "plt.title(\"Unmotorized Pendulum\")\n",
    "plt.grid()\n",
    "plt.show()"
   ]
  },
  {
   "cell_type": "code",
   "execution_count": null,
   "metadata": {},
   "outputs": [],
   "source": [
    "# Define ordinary differential equation\n",
    "motor_torque = -100               # Nm\n",
    "\n",
    "def motorized_hammer_ODE(t, y):\n",
    "    return (y[1], -g * np.sin(y[0]) / L_hammer + motor_torque)"
   ]
  },
  {
   "cell_type": "code",
   "execution_count": null,
   "metadata": {},
   "outputs": [],
   "source": [
    "# Solve the ODE\n",
    "sol_motorized = solve_ivp(motorized_hammer_ODE, [0, duration], (theta_0, theta_dot_0), t_eval=np.linspace(0,duration, round(duration/dt)))\n",
    "t_mot = sol_motorized.t\n",
    "theta_deg_mot = np.rad2deg(sol_motorized.y[0])\n",
    "theta_dot_deg_mot = np.rad2deg(sol_motorized.y[1])\n",
    "\n",
    "# Print maximum speed:\n",
    "speeds_mot = abs(np.deg2rad(theta_dot_deg_mot)) * L_hammer     # m/s\n",
    "max_speed_mot = max(speeds_mot)     # m/s\n",
    "print(max_speed_mot)"
   ]
  },
  {
   "cell_type": "code",
   "execution_count": null,
   "metadata": {},
   "outputs": [],
   "source": [
    "# Plot time vs theta and thetadot \n",
    "fig, ax1 = plt.subplots()\n",
    "\n",
    "ax1.set_ylabel(r'$\\theta$ [deg]', color = 'red')\n",
    "ax1.tick_params(axis='y', color='red',labelcolor='red')\n",
    "ax1.set_xlabel(\"Time [s]\")\n",
    "ax1.plot(t, theta_deg_mot, 'r', lw=2, label=r'$\\theta$')\n",
    "\n",
    "ax2 = ax1.twinx()\n",
    "plt.plot(t_mot, speeds_mot, 'b', lw=2, label=r'$\\dot \\theta$')\n",
    "plt.ylabel(r'Speed [m/s]', color='blue')\n",
    "plt.tick_params(axis='y', color='blue', labelcolor='blue')\n",
    "plt.ylim(-max_speed_mot*1.1, max_speed_mot*1.1)\n",
    "\n",
    "plt.title(\"Motorized Pendulum\")\n",
    "plt.grid()\n",
    "plt.show()"
   ]
  },
  {
   "cell_type": "code",
   "execution_count": null,
   "metadata": {},
   "outputs": [],
   "source": [
    "# Calculate actual max speed\n",
    "impact_index = 1\n",
    "while theta_deg_mot[impact_index] > 0:\n",
    "    impact_index += 1\n",
    "\n",
    "impact_index = (impact_index - 1) if abs(theta_deg_mot[impact_index-1]) < abs(theta_deg_mot[impact_index]) else impact_index\n",
    "print(speeds_mot[impact_index])\n"
   ]
  },
  {
   "cell_type": "code",
   "execution_count": null,
   "metadata": {},
   "outputs": [],
   "source": []
  }
 ],
 "metadata": {
  "kernelspec": {
   "display_name": ".venv",
   "language": "python",
   "name": "python3"
  },
  "language_info": {
   "codemirror_mode": {
    "name": "ipython",
    "version": 3
   },
   "file_extension": ".py",
   "mimetype": "text/x-python",
   "name": "python",
   "nbconvert_exporter": "python",
   "pygments_lexer": "ipython3",
   "version": "3.12.1"
  }
 },
 "nbformat": 4,
 "nbformat_minor": 2
}
